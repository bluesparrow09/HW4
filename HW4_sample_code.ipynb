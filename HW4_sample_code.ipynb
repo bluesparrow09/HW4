{
 "cells": [
  {
   "cell_type": "code",
   "execution_count": 21,
   "metadata": {},
   "outputs": [],
   "source": [
    "import numpy as np\n",
    "import matplotlib.pyplot as plt"
   ]
  },
  {
   "cell_type": "code",
   "execution_count": 22,
   "metadata": {},
   "outputs": [],
   "source": [
    "def generate_sine(t_duration, f0, fs):\n",
    "    time_steps = np.linspace(0, t_duration - 1/fs, int(t_duration * fs))\n",
    "    sin_wave = np.sin(2 * np.pi * f0 * time_steps)\n",
    "    \n",
    "    return time_steps, sin_wave"
   ]
  },
  {
   "cell_type": "code",
   "execution_count": null,
   "metadata": {},
   "outputs": [],
   "source": [
    "time_steps, low_freq_signal = generate_sine(t_duration=10, f0=5, fs=100)\n",
    "_, high_freq_signal = generate_sine(t_duration=10, f0=20, fs=100)\n",
    "signal = low_freq_signal + high_freq_signal\n",
    "\n",
    "plt.figure(figsize=(10, 4))\n",
    "_ = plt.plot(time_steps, signal)\n",
    "_ = plt.xlabel('Time', fontsize = 25)\n",
    "_ = plt.ylabel('Original Signal', fontsize = 25)"
   ]
  },
  {
   "cell_type": "code",
   "execution_count": null,
   "metadata": {},
   "outputs": [],
   "source": [
    "# your code goes here\n",
    "# call generate_sine to plot the sampled signal\n",
    "\n",
    "\n",
    "plt.figure(figsize=(10, 4))\n",
    "_ = plt.plot(time_steps, signal)\n",
    "_ = plt.xlabel('Time', fontsize = 25)\n",
    "_ = plt.ylabel('Sampled Signal (50Hz)', fontsize = 25)"
   ]
  },
  {
   "cell_type": "code",
   "execution_count": null,
   "metadata": {},
   "outputs": [],
   "source": [
    "# your code goes here\n",
    "# call generate_sine to plot the sampled signal\n",
    "\n",
    "plt.figure(figsize=(10, 4))\n",
    "_ = plt.plot(time_steps, signal)\n",
    "_ = plt.xlabel('Time', fontsize = 25)\n",
    "_ = plt.ylabel('Sampled Signal (25Hz)', fontsize = 25)"
   ]
  },
  {
   "cell_type": "code",
   "execution_count": null,
   "metadata": {},
   "outputs": [],
   "source": [
    "# your code goes here\n",
    "# call generate_sine to plot the sampled signal\n",
    "\n",
    "plt.figure(figsize=(10, 4))\n",
    "_ = plt.plot(time_steps, signal)\n",
    "_ = plt.xlabel('Time', fontsize = 25)\n",
    "_ = plt.ylabel('Sampled Signal (15Hz)', fontsize = 25)"
   ]
  }
 ],
 "metadata": {
  "kernelspec": {
   "display_name": "Python 3",
   "language": "python",
   "name": "python3"
  },
  "language_info": {
   "codemirror_mode": {
    "name": "ipython",
    "version": 3
   },
   "file_extension": ".py",
   "mimetype": "text/x-python",
   "name": "python",
   "nbconvert_exporter": "python",
   "pygments_lexer": "ipython3",
   "version": "3.13.0"
  }
 },
 "nbformat": 4,
 "nbformat_minor": 2
}
